{
 "cells": [
  {
   "cell_type": "code",
   "execution_count": 135,
   "metadata": {},
   "outputs": [],
   "source": [
    "import cv2 \n",
    "from src.yolov7.plate_detector import PlateDetector\n",
    "# from src.yolov7.text_detector import TextDetector\n",
    "# from src.PaddleOCR.model.text_angle_classifier import PaddleTextAngleClassifier\n",
    "# from src.PaddleOCR.model.text_recognizer import PaddleTextRecognizer\n",
    "# from src.PaddleOCR.model.text_detector import PaddleTextDetector\n",
    "# from src.utils import vconcat_2_images, check_valid_image, calculate_list_distance\n",
    "# from src.preprocess.preprocess import screen_alignment, rotate_bbx#, rule_split_index\n",
    "# from src.postprocess.postprocess import sorted_boxes\n",
    "import numpy as np\n",
    "import itertools\n",
    "import pandas as pd\n",
    "import os\n",
    "\n",
    "plate_detetor=PlateDetector.getInstance()\n",
    "path='./test/'\n",
    "\n",
    "if __name__ == '__main__':\n",
    "   images=os.listdir(path)\n",
    "   img=cv2.imread(path+images[0])\n",
    "\n",
    "   # crop=plate_detetor.detect(img)"
   ]
  },
  {
   "cell_type": "code",
   "execution_count": 93,
   "metadata": {},
   "outputs": [],
   "source": [
    "cv2.imshow('a',crop)\n",
    "cv2.waitKey()\n",
    "cv2.destroyAllWindows()"
   ]
  },
  {
   "cell_type": "code",
   "execution_count": 143,
   "metadata": {},
   "outputs": [],
   "source": [
    "from src.PaddleOCR.model.text_angle_classifier import PaddleTextAngleClassifier\n",
    "from src.PaddleOCR.model.text_recognizer import PaddleTextRecognizer\n",
    "from src.PaddleOCR.model.text_detector import PaddleTextDetector\n",
    "from src.utils import vconcat_2_images, check_valid_image, calculate_list_distance\n",
    "from src.preprocess.preprocess import screen_alignment, rotate_bbx#, rule_split_index\n",
    "from src.postprocess.postprocess import sorted_boxes"
   ]
  },
  {
   "cell_type": "code",
   "execution_count": 131,
   "metadata": {},
   "outputs": [],
   "source": [
    "text_detector = PaddleTextDetector.getInstance()\n",
    "direction_detector = PaddleTextAngleClassifier.getInstance()\n",
    "text_recognizer = PaddleTextRecognizer.getInstance()"
   ]
  },
  {
   "cell_type": "code",
   "execution_count": 132,
   "metadata": {},
   "outputs": [],
   "source": [
    "def crop_image(img,box):\n",
    "    x=[]\n",
    "    y=[]\n",
    "    for i in box:\n",
    "        x.append(int(i[0]))\n",
    "        y.append(int(i[1]))\n",
    "    crop_img=img[min(y):max(y),min(x):max(x),:]\n",
    "    return crop_img"
   ]
  },
  {
   "cell_type": "code",
   "execution_count": 137,
   "metadata": {},
   "outputs": [],
   "source": [
    "#Paddle Text Flow\n",
    "det = text_detector.detect(img)\n",
    "\n",
    "img_crop_list = []\n",
    "for box in det:\n",
    "    img_crop = crop_image(img, box)\n",
    "    img_crop_list.append(img_crop)\n",
    "\n",
    "list_recognition = text_recognizer.detect(img_crop_list)"
   ]
  },
  {
   "cell_type": "code",
   "execution_count": 142,
   "metadata": {},
   "outputs": [
    {
     "data": {
      "text/plain": [
       "('25990', 0.9107972979545593)"
      ]
     },
     "execution_count": 142,
     "metadata": {},
     "output_type": "execute_result"
    }
   ],
   "source": [
    "list_recognition"
   ]
  },
  {
   "cell_type": "code",
   "execution_count": 77,
   "metadata": {},
   "outputs": [],
   "source": [
    "for cord in det:\n",
    "    # print(cord[0][0])\n",
    "    x=[]\n",
    "    for i in cord:\n",
    "        x.append(int(i[0]))\n",
    "    y=[]\n",
    "    for i in cord:\n",
    "        y.append(int(i[1]))\n",
    "    b=cv2.rectangle(crop,(round(min(x)),round(min(y))),\n",
    "                        (round(max(x)),round(max(y))),color=(0,255,0),thickness=3)\n",
    "    \n",
    "cv2.imshow('a',b)\n",
    "cv2.waitKey()\n",
    "cv2.destroyAllWindows()"
   ]
  },
  {
   "cell_type": "code",
   "execution_count": 141,
   "metadata": {},
   "outputs": [],
   "source": [
    "for box in img_crop_list:\n",
    "    cv2.imshow('a',box)\n",
    "    cv2.waitKey()\n",
    "    cv2.destroyAllWindows()"
   ]
  }
 ],
 "metadata": {
  "kernelspec": {
   "display_name": "Python 3",
   "language": "python",
   "name": "python3"
  },
  "language_info": {
   "codemirror_mode": {
    "name": "ipython",
    "version": 3
   },
   "file_extension": ".py",
   "mimetype": "text/x-python",
   "name": "python",
   "nbconvert_exporter": "python",
   "pygments_lexer": "ipython3",
   "version": "3.8.10"
  },
  "orig_nbformat": 4,
  "vscode": {
   "interpreter": {
    "hash": "a4868653bb6f8972e87e4c446ab8a445a15b25dedb8594cc74c480f8152ea86a"
   }
  }
 },
 "nbformat": 4,
 "nbformat_minor": 2
}
